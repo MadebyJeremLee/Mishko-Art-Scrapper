{
  "nbformat": 4,
  "nbformat_minor": 0,
  "metadata": {
    "colab": {
      "provenance": [],
      "authorship_tag": "ABX9TyPE3LvBilkI5xxqopU5om5q",
      "include_colab_link": true
    },
    "kernelspec": {
      "name": "python3",
      "display_name": "Python 3"
    },
    "language_info": {
      "name": "python"
    }
  },
  "cells": [
    {
      "cell_type": "markdown",
      "metadata": {
        "id": "view-in-github",
        "colab_type": "text"
      },
      "source": [
        "<a href=\"https://colab.research.google.com/github/MadebyJeremLee/Mishko-Art-Scrapper/blob/main/Mishko_Art_Scrapper.ipynb\" target=\"_parent\"><img src=\"https://colab.research.google.com/assets/colab-badge.svg\" alt=\"Open In Colab\"/></a>"
      ]
    },
    {
      "cell_type": "markdown",
      "source": [
        "# **Mishko Art Scraper**\n",
        "### Website : https://mishko.co/\n"
      ],
      "metadata": {
        "id": "Ps1UwRBspyTW"
      }
    },
    {
      "cell_type": "code",
      "source": [
        "!pip install beautifulsoup4\n",
        "!pip install requests\n",
        "!pip install lxml"
      ],
      "metadata": {
        "id": "trg4FPdzbAR9"
      },
      "execution_count": null,
      "outputs": []
    },
    {
      "cell_type": "code",
      "execution_count": null,
      "metadata": {
        "id": "YLJXcC_VaU4N"
      },
      "outputs": [],
      "source": [
        "import pandas as pd\n",
        "import requests\n",
        "from bs4 import BeautifulSoup"
      ]
    },
    {
      "cell_type": "code",
      "source": [
        "requests.get('https://mishko.co/').text"
      ],
      "metadata": {
        "id": "B1AFZ_VKagFU"
      },
      "execution_count": null,
      "outputs": []
    },
    {
      "cell_type": "code",
      "source": [
        "headers={\"User-Agent\": \"Mozilla/5.0 (Windows NT 10.0; Win64; x64) AppleWebKit/537.36 (KHTML, like Gecko) Chrome/114.0.0.0 Safari/537.36\"}"
      ],
      "metadata": {
        "id": "KVJMn5RFbWrx"
      },
      "execution_count": null,
      "outputs": []
    },
    {
      "cell_type": "code",
      "source": [
        "r=requests.get('https://mishko.co/',headers=headers)"
      ],
      "metadata": {
        "id": "1J1P8HH2cU84"
      },
      "execution_count": null,
      "outputs": []
    },
    {
      "cell_type": "code",
      "source": [
        "BeautifulSoup(r.content,'html.parser')"
      ],
      "metadata": {
        "id": "9Hv9cpCdcgmO",
        "collapsed": true
      },
      "execution_count": null,
      "outputs": []
    },
    {
      "cell_type": "code",
      "source": [
        "soup=BeautifulSoup(r.content,'lxml')"
      ],
      "metadata": {
        "id": "uFKeUGnUU7Bf"
      },
      "execution_count": null,
      "outputs": []
    },
    {
      "cell_type": "code",
      "source": [
        "soup.find_all('img',class_=\"grid__item-image\")"
      ],
      "metadata": {
        "id": "bOOf2zZXc7DY",
        "collapsed": true
      },
      "execution_count": null,
      "outputs": []
    },
    {
      "cell_type": "code",
      "source": [
        "len(soup.find_all('img',class_=\"grid__item-image\"))"
      ],
      "metadata": {
        "id": "2J8PMQ0kfqkI"
      },
      "execution_count": null,
      "outputs": []
    },
    {
      "cell_type": "code",
      "source": [
        "img_url=soup.find_all('img',class_=\"js-lazy\")"
      ],
      "metadata": {
        "id": "QPCr8LUcfpcO"
      },
      "execution_count": null,
      "outputs": []
    },
    {
      "cell_type": "code",
      "source": [
        "print(img_url)"
      ],
      "metadata": {
        "id": "D2jYzZb0gyJK"
      },
      "execution_count": null,
      "outputs": []
    },
    {
      "cell_type": "code",
      "source": [
        "j=1\n",
        "for i in img_url:\n",
        "  url_images=i.get('data-src').strip()\n",
        "  #print(url_images)\n",
        "  if url_images.startswith('//'):\n",
        "    url='https:'+url_images\n",
        "  else:\n",
        "    url=url_images\n",
        "  print(url)\n",
        "  file_name=str(j)\n",
        "  j+=1\n",
        "  img_file=open(str(file_name)+'.jpg','wb')\n",
        "  img_file.write(requests.get(url).content)\n",
        "  img_file.close()\n"
      ],
      "metadata": {
        "id": "D731ceX6gbWj",
        "collapsed": true
      },
      "execution_count": null,
      "outputs": []
    },
    {
      "cell_type": "markdown",
      "source": [
        "### Drive Link: https://drive.google.com/drive/folders/12dR0bwUnbcnGttH5nEJTS2OX5J9RbK-X?usp=drive_link"
      ],
      "metadata": {
        "id": "FiXL67XExSvA"
      }
    },
    {
      "source": [
        "from google.colab import drive\n",
        "import os\n",
        "import requests\n",
        "\n",
        "# Mount Google Drive\n",
        "drive.mount('/content/drive')\n",
        "\n",
        "# Define the folder ID from the Google Drive link\n",
        "folder_id = '12dR0bwUnbcnGttH5nEJTS2OX5J9RbK-X'\n",
        "\n",
        "# Construct the folder path inside the mounted drive\n",
        "folder_path = f'/content/drive/My Drive/Colab Notebooks/Web Scraping/Mishko Art Collections/'\n",
        "\n",
        "# Create the folder if it doesn't exist\n",
        "if not os.path.exists(folder_path):\n",
        "    os.makedirs(folder_path)\n",
        "\n",
        "j=1\n",
        "for i in img_url:\n",
        "  url_images=i.get('data-src').strip()\n",
        "  if url_images.startswith('//'):\n",
        "    url='https:'+url_images\n",
        "  else:\n",
        "    url=url_images\n",
        "  print(url)\n",
        "  file_name=str(j)\n",
        "  j+=1\n",
        "\n",
        "  # Create the full path to the image file within the Google Drive folder\n",
        "  img_path = os.path.join(folder_path, file_name + '.jpg')\n",
        "\n",
        "  # Open the image file in the Google Drive folder in write binary ('wb') mode\n",
        "  with open(img_path, 'wb') as img_file:\n",
        "      img_file.write(requests.get(url).content)"
      ],
      "cell_type": "code",
      "metadata": {
        "id": "bmec7m_5unrc"
      },
      "execution_count": null,
      "outputs": []
    }
  ]
}